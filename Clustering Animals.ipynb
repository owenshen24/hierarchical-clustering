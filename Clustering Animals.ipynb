{
 "cells": [
  {
   "cell_type": "code",
   "execution_count": 1,
   "metadata": {
    "scrolled": false
   },
   "outputs": [],
   "source": [
    "import numpy as np\n",
    "import pandas as pd\n",
    "from sklearn.neighbors import NearestNeighbors\n",
    "\n",
    "\n",
    "# Set up classes\n",
    "with open('Animals_with_Attributes2/classes.txt') as f:\n",
    "    content = f.readlines()\n",
    "animals = [np.array(x.strip().split()) for x in content]\n",
    "animal_ids = [int(x[0]) for x in animals]\n",
    "animal_names = [x[1].replace(\"+\",\" \") for x in animals]\n",
    "\n",
    "# Set up features list\n",
    "with open('Animals_with_Attributes2/predicates.txt') as f:\n",
    "    content = f.readlines()\n",
    "features = [np.array(x.strip().split()) for x in content]\n",
    "\n",
    "# Set up features weights\n",
    "with open('Animals_with_Attributes2/predicate-matrix-continuous.txt') as f:\n",
    "    content = f.readlines()\n",
    "animals_data = [[float(y) for y in np.array(x.strip().split())] for x in content]\n",
    "\n",
    "# Create pandas Dataframe\n",
    "animals = pd.DataFrame(animals_data)\n",
    "animals.insert(0, 'id', pd.Series(animal_ids))\n",
    "animals.insert(1, 'name', pd.Series(animal_names))\n",
    "\n",
    "# Create dictionary for easy access\n",
    "animals_dict = {}\n",
    "for i in range(len(animal_names)):\n",
    "    animals_dict[animal_names[i]] = animals_data[i]\n",
    "\n",
    "# graph creation with KNN \n",
    "# generates a matrix of 1's & 0's where the 1's denotes an edge \n",
    "# between two animals (currently can have an edge to itself)\n",
    "neigh = NearestNeighbors(n_neighbors=6).fit(animals_data)  \n",
    "graph = neigh.kneighbors_graph(animals_data).toarray()\n",
    "\n",
    "#generate a list of edges from adjacency matrix\n",
    "edges = {}\n",
    "for n in animal_names:\n",
    "    edges[n] = []\n",
    "    \n",
    "for row in range(len(graph)):\n",
    "    for col in range(len(graph[row])):\n",
    "        if graph[row][col] and row != col:\n",
    "            n1 = animal_names[row]\n",
    "            n2 = animal_names[col]\n",
    "            edges[n1].append((n1, n2))\n",
    "            edges[n2].append((n2, n1))\n",
    "\n",
    "for e in edges:\n",
    "    edges[e] = set(edges[e])"
   ]
  },
  {
   "cell_type": "code",
   "execution_count": 50,
   "metadata": {},
   "outputs": [],
   "source": [
    "import math\n",
    "import copy\n",
    "\n",
    "class Node:\n",
    "    def __init__(self, name, data):\n",
    "        self.name = name\n",
    "        self.data = data\n",
    "        self.left = None\n",
    "        self.right = None\n",
    "\n",
    "class Hcluster:\n",
    "\n",
    "    # data is the matrix of all our data points\n",
    "    # edges is a symmetric adjacency list using some sort of id\n",
    "    # table is our data indexed by the id for O(1) lookup\n",
    "    def __init__(self, data, edges, table, num_features):\n",
    "        self.data = data\n",
    "        self.edges = edges\n",
    "        self.table = table\n",
    "        self.num_features = num_features\n",
    "    \n",
    "    \n",
    "    \n",
    "    def split(self, data):\n",
    "        min_index = 0\n",
    "        min_cost = math.inf\n",
    "        min_feature = 0\n",
    "        sorted_data = copy.copy(data)\n",
    "        \n",
    "        # Find best feature to split:\n",
    "        for feature in range(self.num_features):            \n",
    "            running_cost = 0\n",
    "            weighted_cost = 0\n",
    "\n",
    "            # Sort by name first and then value\n",
    "            sorted_data.sort(key=lambda x: x[0])\n",
    "            sorted_data.sort(key=lambda x: x[1][feature])\n",
    "\n",
    "            sorted_dict = {}\n",
    "            for i in range(len(sorted_data)):\n",
    "                sorted_dict[sorted_data[i][0]] = i\n",
    "                \n",
    "            for i in range(len(sorted_data)-1):\n",
    "                start_edge = sorted_data[i][0]\n",
    "                for e in self.edges[start_edge]:\n",
    "                    end_edge = e[1]\n",
    "                    if sorted_dict[start_edge] < sorted_dict[end_edge]:\n",
    "                        running_cost += 1\n",
    "                    else:\n",
    "                        running_cost -= 1\n",
    "                weighted_cost = running_cost/((i+1)*(len(sorted_data)-i-1))\n",
    "                if weighted_cost < min_cost:\n",
    "                    min_index = i\n",
    "                    min_cost = weighted_cost\n",
    "                    min_feature = feature\n",
    "        \n",
    "        # Re-sort along best feature and split\n",
    "        sorted_data.sort(key=lambda x: x[0])\n",
    "        sorted_data.sort(key=lambda x: x[1][min_feature])\n",
    "        cut_node = Node(sorted_data[min_index][0], sorted_data[min_index][1])\n",
    "        return(cut_node, sorted_data[0:i], sorted_data[i+1:])\n",
    "        \n",
    "        \n",
    "        \n",
    "    def makeTreeHelper(self, data):\n",
    "        if len(data) == 0:\n",
    "            return None\n",
    "        if len(data) == 1:\n",
    "            return Node(data)\n",
    "        else:\n",
    "            center, left, right = self.split(data)\n",
    "            center.left = self.makeTreeHelper(left)\n",
    "            center.right = self.makeTreeHelper(right)\n",
    "            return center\n",
    "    \n",
    "    \n",
    "    \n",
    "    def makeTree(self):\n",
    "        sorted_data = [[a, self.table[a]] for a in self.table.keys()]\n",
    "        self.makeTreeHelper(sorted_data)"
   ]
  },
  {
   "cell_type": "code",
   "execution_count": 52,
   "metadata": {
    "scrolled": false
   },
   "outputs": [],
   "source": [
    "c = Hcluster(animals, edges, animals_dict, 85)\n",
    "center, left, right = c.split([[a, c.table[a]] for a in c.table.keys()])"
   ]
  },
  {
   "cell_type": "code",
   "execution_count": 53,
   "metadata": {
    "scrolled": false
   },
   "outputs": [
    {
     "ename": "KeyError",
     "evalue": "'killer whale'",
     "output_type": "error",
     "traceback": [
      "\u001b[0;31m---------------------------------------------------------------------------\u001b[0m",
      "\u001b[0;31mKeyError\u001b[0m                                  Traceback (most recent call last)",
      "\u001b[0;32m<ipython-input-53-d87419bed750>\u001b[0m in \u001b[0;36m<module>\u001b[0;34m\u001b[0m\n\u001b[0;32m----> 1\u001b[0;31m \u001b[0mc\u001b[0m\u001b[0;34m.\u001b[0m\u001b[0msplit\u001b[0m\u001b[0;34m(\u001b[0m\u001b[0mleft\u001b[0m\u001b[0;34m)\u001b[0m\u001b[0;34m\u001b[0m\u001b[0;34m\u001b[0m\u001b[0m\n\u001b[0m",
      "\u001b[0;32m<ipython-input-50-82ac8b2d9527>\u001b[0m in \u001b[0;36msplit\u001b[0;34m(self, data)\u001b[0m\n\u001b[1;32m     45\u001b[0m                 \u001b[0;32mfor\u001b[0m \u001b[0me\u001b[0m \u001b[0;32min\u001b[0m \u001b[0mself\u001b[0m\u001b[0;34m.\u001b[0m\u001b[0medges\u001b[0m\u001b[0;34m[\u001b[0m\u001b[0mstart_edge\u001b[0m\u001b[0;34m]\u001b[0m\u001b[0;34m:\u001b[0m\u001b[0;34m\u001b[0m\u001b[0;34m\u001b[0m\u001b[0m\n\u001b[1;32m     46\u001b[0m                     \u001b[0mend_edge\u001b[0m \u001b[0;34m=\u001b[0m \u001b[0me\u001b[0m\u001b[0;34m[\u001b[0m\u001b[0;36m1\u001b[0m\u001b[0;34m]\u001b[0m\u001b[0;34m\u001b[0m\u001b[0;34m\u001b[0m\u001b[0m\n\u001b[0;32m---> 47\u001b[0;31m                     \u001b[0;32mif\u001b[0m \u001b[0msorted_dict\u001b[0m\u001b[0;34m[\u001b[0m\u001b[0mstart_edge\u001b[0m\u001b[0;34m]\u001b[0m \u001b[0;34m<\u001b[0m \u001b[0msorted_dict\u001b[0m\u001b[0;34m[\u001b[0m\u001b[0mend_edge\u001b[0m\u001b[0;34m]\u001b[0m\u001b[0;34m:\u001b[0m\u001b[0;34m\u001b[0m\u001b[0;34m\u001b[0m\u001b[0m\n\u001b[0m\u001b[1;32m     48\u001b[0m                         \u001b[0mrunning_cost\u001b[0m \u001b[0;34m+=\u001b[0m \u001b[0;36m1\u001b[0m\u001b[0;34m\u001b[0m\u001b[0;34m\u001b[0m\u001b[0m\n\u001b[1;32m     49\u001b[0m                     \u001b[0;32melse\u001b[0m\u001b[0;34m:\u001b[0m\u001b[0;34m\u001b[0m\u001b[0;34m\u001b[0m\u001b[0m\n",
      "\u001b[0;31mKeyError\u001b[0m: 'killer whale'"
     ]
    }
   ],
   "source": [
    "c.split(left)"
   ]
  },
  {
   "cell_type": "code",
   "execution_count": null,
   "metadata": {},
   "outputs": [],
   "source": []
  },
  {
   "cell_type": "code",
   "execution_count": null,
   "metadata": {},
   "outputs": [],
   "source": []
  }
 ],
 "metadata": {
  "kernelspec": {
   "display_name": "Python 3",
   "language": "python",
   "name": "python3"
  },
  "language_info": {
   "codemirror_mode": {
    "name": "ipython",
    "version": 3
   },
   "file_extension": ".py",
   "mimetype": "text/x-python",
   "name": "python",
   "nbconvert_exporter": "python",
   "pygments_lexer": "ipython3",
   "version": "3.6.7"
  }
 },
 "nbformat": 4,
 "nbformat_minor": 2
}
