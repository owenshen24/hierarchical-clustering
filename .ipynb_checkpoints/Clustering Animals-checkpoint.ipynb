{
 "cells": [
  {
   "cell_type": "code",
   "execution_count": 13,
   "metadata": {
    "scrolled": false
   },
   "outputs": [],
   "source": [
    "import numpy as np\n",
    "import pandas as pd\n",
    "from sklearn.neighbors import NearestNeighbors\n",
    "\n",
    "\n",
    "# Set up classes\n",
    "with open('Animals_with_Attributes2/classes.txt') as f:\n",
    "    content = f.readlines()\n",
    "animals = [np.array(x.strip().split()) for x in content]\n",
    "animal_ids = [int(x[0]) for x in animals]\n",
    "animal_names = [x[1].replace(\"+\",\" \") for x in animals]\n",
    "\n",
    "# Set up features list\n",
    "with open('Animals_with_Attributes2/predicates.txt') as f:\n",
    "    content = f.readlines()\n",
    "features = [np.array(x.strip().split()) for x in content]\n",
    "\n",
    "# Set up features weights\n",
    "with open('Animals_with_Attributes2/predicate-matrix-continuous.txt') as f:\n",
    "    content = f.readlines()\n",
    "animals_data = [[float(y) for y in np.array(x.strip().split())] for x in content]\n",
    "\n",
    "# Create pandas Dataframe\n",
    "animals = pd.DataFrame(animals_data)\n",
    "animals.insert(0, 'id', pd.Series(animal_ids))\n",
    "animals.insert(1, 'name', pd.Series(animal_names))\n",
    "\n",
    "# Create dictionary for easy access\n",
    "animals_dict = {}\n",
    "for i in range(len(animal_names)):\n",
    "    animals_dict[animal_names[i]] = animals_data[i]\n",
    "\n",
    "# graph creation with KNN \n",
    "# generates a matrix of 1's & 0's where the 1's denotes an edge \n",
    "# between two animals (currently can have an edge to itself)\n",
    "neigh = NearestNeighbors(n_neighbors=6).fit(animals_data)  \n",
    "graph = neigh.kneighbors_graph(animals_data).toarray()\n",
    "\n",
    "#generate a list of edges from adjacency matrix\n",
    "edges = {}\n",
    "for n in animal_names:\n",
    "    edges[n] = []\n",
    "    \n",
    "for row in range(len(graph)):\n",
    "    for col in range(len(graph[row])):\n",
    "        if graph[row][col] and row != col:\n",
    "            n1 = animal_names[row]\n",
    "            n2 = animal_names[col]\n",
    "            edges[n1].append((n1, n2))\n",
    "            edges[n2].append((n2, n1))\n",
    "\n",
    "for e in edges:\n",
    "    edges[e] = set(edges[e])"
   ]
  },
  {
   "cell_type": "code",
   "execution_count": 21,
   "metadata": {},
   "outputs": [],
   "source": [
    "import math\n",
    "\n",
    "class Node:\n",
    "    def __init__(self, data):\n",
    "        self.data = data\n",
    "        self.left = None\n",
    "        self.right = None\n",
    "\n",
    "class Hcluster:\n",
    "\n",
    "    # data is the matrix of all our data points\n",
    "    # edges is a symmetric adjacency list using some sort of id\n",
    "    # table is our data indexed by the id for O(1) lookup\n",
    "    def __init__(self, data, edges, table):\n",
    "        self.data = data\n",
    "        self.edges = edges\n",
    "        self.table = table\n",
    "    \n",
    "    def split(self, data, feature):\n",
    "        index = 0\n",
    "        min_cost = math.inf\n",
    "        running_cost = 0\n",
    "        weighted_cost = 0\n",
    "        \n",
    "        # TODO: change this line later\n",
    "        sorted_data = [[a, self.table[a]] for a in self.table.keys()]\n",
    "        \n",
    "        # Sort by name first and then value\n",
    "        sorted_data.sort(key=lambda x: x[0])\n",
    "        sorted_data.sort(key=lambda x: x[1][feature])\n",
    "        \n",
    "        sorted_dict = {}\n",
    "        for i in range(len(sorted_data)):\n",
    "            sorted_dict[sorted_data[i][0]] = i\n",
    "        \n",
    "        for i in range(len(sorted_data)-1):\n",
    "            start_edge = sorted_data[i][0]\n",
    "            for e in self.edges[start_edge]:\n",
    "                end_edge = e[1]\n",
    "                if sorted_dict[start_edge] < sorted_dict[end_edge]:\n",
    "                    running_cost += 1\n",
    "                else:\n",
    "                    running_cost -= 1\n",
    "            weighted_cost = running_cost/((i+1)*(len(sorted_data)-i-1))\n",
    "            if weighted_cost < min_cost:\n",
    "                index = i\n",
    "                min_cost = weighted_cost\n",
    "        return(index, min_cost)\n",
    "        \n",
    "        \n",
    "    def makeTree(self, data):\n",
    "        pass"
   ]
  },
  {
   "cell_type": "code",
   "execution_count": 26,
   "metadata": {
    "scrolled": false
   },
   "outputs": [
    {
     "data": {
      "text/plain": [
       "(8, 0.1002710027100271)"
      ]
     },
     "execution_count": 26,
     "metadata": {},
     "output_type": "execute_result"
    }
   ],
   "source": [
    "c = Hcluster(animals, edges, animals_dict)\n",
    "c.split(animals, 0)"
   ]
  },
  {
   "cell_type": "code",
   "execution_count": null,
   "metadata": {
    "scrolled": false
   },
   "outputs": [],
   "source": []
  },
  {
   "cell_type": "code",
   "execution_count": null,
   "metadata": {},
   "outputs": [],
   "source": []
  },
  {
   "cell_type": "code",
   "execution_count": null,
   "metadata": {},
   "outputs": [],
   "source": []
  }
 ],
 "metadata": {
  "kernelspec": {
   "display_name": "Python 3",
   "language": "python",
   "name": "python3"
  },
  "language_info": {
   "codemirror_mode": {
    "name": "ipython",
    "version": 3
   },
   "file_extension": ".py",
   "mimetype": "text/x-python",
   "name": "python",
   "nbconvert_exporter": "python",
   "pygments_lexer": "ipython3",
   "version": "3.6.7"
  }
 },
 "nbformat": 4,
 "nbformat_minor": 2
}
