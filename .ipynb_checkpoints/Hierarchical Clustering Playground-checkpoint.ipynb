{
 "cells": [
  {
   "cell_type": "markdown",
   "metadata": {},
   "source": [
    "### Hierarchical Clustering:\n",
    "\n",
    "#### Input: \n",
    "- data: a `m` by `n` array with data and features\n",
    "- edges: an adjacency list that represents the graph\n",
    "\n",
    "#### General algo:\n",
    "1. For each features:\n",
    "    2. For each data point:\n",
    "        3. Calculate the cost\n",
    "4. Pick the split that has the least cost\n",
    "5. Recurse on the resulting two sub-data arrays\n",
    "\n",
    "#### Calcuating the cost:\n",
    "1. running_cost := 0\n",
    "1. best_cost := infinity\n",
    "2. cost_array := \\[ \\]\n",
    "3. For edge(a,b) in edges:\n",
    "    4. cost_array\\[a\\] += 1\n",
    "    5. cost_array\\[b\\] -= 1\n",
    "6. For i in len(cost_array):\n",
    "    7. running_cost += cost_array\\[i\\]\n",
    "    8. if running_cost < best_cost:\n",
    "        9. best_cost = running_cost\n",
    "        10. split_index = i\n",
    "11. return i"
   ]
  },
  {
   "cell_type": "code",
   "execution_count": 68,
   "metadata": {
    "code_folding": []
   },
   "outputs": [],
   "source": [
    "# Testing framework\n",
    "import random\n",
    "\n",
    "class Data:\n",
    "    \n",
    "    def __init__(self, size, degree, fill=True):\n",
    "        self.degree = degree\n",
    "        self.size = size\n",
    "        self.data = [i for i in range(size)]\n",
    "        self.edges = [[] for i in range(size)]\n",
    "        self.dist = [0 for i in range(size)]\n",
    "        if fill:\n",
    "            self.fill_edges()\n",
    "    \n",
    "    # Randomly creates graph\n",
    "    def fill_edges(self):\n",
    "        for i in range(self.degree*self.size):\n",
    "            edge = random.sample(range(self.size), 2)\n",
    "            self.edges[edge[0]].append(edge)\n",
    "            self.edges[edge[1]].append(edge)\n",
    "    \n",
    "    # Creates graph from list of edges\n",
    "    def fill_edges(self, e):\n",
    "        for edge in e:\n",
    "            self.edges[edge[0]].append(edge)\n",
    "            self.edges[edge[1]].append(edge)\n",
    "    \n",
    "    # O(n) space algorithm\n",
    "    # Does not require symmetrical adjacency list\n",
    "    def split(self):\n",
    "        self.dist = [0 for i in range(self.size)]\n",
    "        for i in range(self.size):\n",
    "            for e in self.edges[i]:\n",
    "                self.dist[min(e)] += 1\n",
    "                self.dist[max(e)] -= 1\n",
    "        index = 0\n",
    "        min_cost = self.size*self.degree\n",
    "        running_cost = 0\n",
    "        weighted_cost = 0\n",
    "        # We can skip the last index b/c it's not a real cut\n",
    "        for i in range(self.size-1):\n",
    "            running_cost += self.dist[i]\n",
    "            weighted_cost = running_cost/((i+1)*(self.size-i-1))\n",
    "            if weighted_cost < min_cost:\n",
    "                index = i\n",
    "                min_cost = weighted_cost\n",
    "        return (index, min_cost)\n",
    "    \n",
    "    # O(1) space algorithm\n",
    "    # Only works if the adjacency list is symmetrical\n",
    "    def split2(self):\n",
    "        index = 0\n",
    "        min_cost = self.size*self.degree\n",
    "        running_cost = 0\n",
    "        weighted_cost = 0\n",
    "        for i in range(self.size-1):\n",
    "            for e in self.edges[i]:\n",
    "                if i == min(e):\n",
    "                    running_cost += 1\n",
    "                else:\n",
    "                    running_cost -= 1\n",
    "            weighted_cost = running_cost/((i+1)*(self.size-i-1))\n",
    "            if weighted_cost < min_cost:\n",
    "                index = i\n",
    "                min_cost = weighted_cost\n",
    "        return (index, min_cost)"
   ]
  },
  {
   "cell_type": "code",
   "execution_count": 69,
   "metadata": {
    "code_folding": [
     0
    ]
   },
   "outputs": [],
   "source": [
    "# Run tests\n",
    "\n",
    "# Simple case\n",
    "d1 = Data(5, 1, fill=False)\n",
    "e = [[0,1], [0,2], [3,4]]\n",
    "d1.fill_edges(e)\n",
    "assert(d1.split2() == (2, 0))\n",
    "assert(d1.split()[0] == d1.split2()[0])\n",
    "\n",
    "# Harder case\n",
    "d2 = Data(5, 1, fill=False)\n",
    "e = [[0,1], [0,2], [1,3], [2,4]]\n",
    "d2.fill_edges(e)\n",
    "assert(d2.split2() == (3, 0.25))\n",
    "assert(d2.split()[0] == d2.split2()[0])\n",
    "\n",
    "# Null case\n",
    "d3 = Data(10, 1, fill=False)\n",
    "assert(d3.split2() == (0, 0))\n",
    "assert(d3.split()[0] == d3.split2()[0])"
   ]
  },
  {
   "cell_type": "code",
   "execution_count": 70,
   "metadata": {},
   "outputs": [
    {
     "name": "stdout",
     "output_type": "stream",
     "text": [
      "[[[0, 1], [0, 2]], [[0, 1]], [[0, 2]], [[3, 4]], [[3, 4]]]\n"
     ]
    }
   ],
   "source": [
    "d1 = Data(5, 1, fill=False)\n",
    "e = [[0,1], [0,2], [3,4]]\n",
    "d1.fill_edges(e)\n",
    "print(d1.edges)"
   ]
  },
  {
   "cell_type": "code",
   "execution_count": 71,
   "metadata": {},
   "outputs": [
    {
     "data": {
      "text/plain": [
       "(2, 0.0)"
      ]
     },
     "execution_count": 71,
     "metadata": {},
     "output_type": "execute_result"
    }
   ],
   "source": [
    "d1.split()"
   ]
  },
  {
   "cell_type": "code",
   "execution_count": 72,
   "metadata": {},
   "outputs": [],
   "source": [
    "d1.dist = [0 for i in range(d1.size)]\n",
    "for i in range(d1.size):\n",
    "    for e in d1.edges[i]:\n",
    "        d1.dist[min(e)] += 1\n",
    "        d1.dist[max(e)] -= 1"
   ]
  },
  {
   "cell_type": "code",
   "execution_count": 73,
   "metadata": {},
   "outputs": [
    {
     "data": {
      "text/plain": [
       "[4, -2, -2, 2, -2]"
      ]
     },
     "execution_count": 73,
     "metadata": {},
     "output_type": "execute_result"
    }
   ],
   "source": [
    "d1.dist"
   ]
  },
  {
   "cell_type": "markdown",
   "metadata": {},
   "source": [
    "### Implementation with Animals w/ Atttributes\n",
    "\n",
    "The animals dataset consists of 50 animals with 85 features"
   ]
  },
  {
   "cell_type": "code",
   "execution_count": 46,
   "metadata": {},
   "outputs": [],
   "source": [
    "import numpy as np\n",
    "import pandas as pd\n",
    "\n",
    "# Set up classes\n",
    "with open('Animals_with_Attributes2/classes.txt') as f:\n",
    "    content = f.readlines()\n",
    "animals = [np.array(x.strip().split()) for x in content]\n",
    "animal_ids = [int(x[0]) for x in animals]\n",
    "animal_names = [x[1].replace(\"+\",\" \") for x in animals]\n",
    "\n",
    "# Set up features list\n",
    "with open('Animals_with_Attributes2/predicates.txt') as f:\n",
    "    content = f.readlines()\n",
    "features = [np.array(x.strip().split()) for x in content]\n",
    "\n",
    "# Set up features weights\n",
    "with open('Animals_with_Attributes2/predicate-matrix-continuous.txt') as f:\n",
    "    content = f.readlines()\n",
    "animals_data = [[float(y) for y in np.array(x.strip().split())] for x in content]\n",
    "\n",
    "# Create pandas Dataframe\n",
    "animals = pd.DataFrame(animals_data)\n",
    "animals.insert(0, 'id', pd.Series(animal_ids))\n",
    "animals.insert(1, 'name', pd.Series(animal_names))"
   ]
  },
  {
   "cell_type": "code",
   "execution_count": 62,
   "metadata": {},
   "outputs": [],
   "source": [
    "from sklearn.neighbors import NearestNeighbors\n",
    "\n",
    "# graph creation with KNN \n",
    "# generates a matrix of 1's & 0's where the 1's denotes an edge \n",
    "# between two animals (currently can have an edge to itself)\n",
    "neigh = NearestNeighbors(n_neighbors=6).fit(animals_data)  \n",
    "graph = neigh.kneighbors_graph(animals_data).toarray()"
   ]
  },
  {
   "cell_type": "code",
   "execution_count": 63,
   "metadata": {},
   "outputs": [
    {
     "name": "stdout",
     "output_type": "stream",
     "text": [
      "Animal Name: antelope\n",
      "Neighbors: \n",
      "antelope\n",
      "horse\n",
      "moose\n",
      "giraffe\n",
      "buffalo\n",
      "deer\n",
      "------\n",
      "Animal Name: grizzly bear\n",
      "Neighbors: \n",
      "grizzly bear\n",
      "german shepherd\n",
      "wolf\n",
      "bobcat\n",
      "lion\n",
      "polar bear\n",
      "------\n",
      "Animal Name: killer whale\n",
      "Neighbors: \n",
      "killer whale\n",
      "blue whale\n",
      "humpback whale\n",
      "seal\n",
      "walrus\n",
      "dolphin\n",
      "------\n"
     ]
    }
   ],
   "source": [
    "#sanity check - see if animal is close to the other 5\n",
    "for n in range(3):\n",
    "    print(\"Animal Name: \"+str(animal_names[n]))\n",
    "    print(\"Neighbors: \")\n",
    "    for i, x in enumerate(graph[n]):\n",
    "        if x:\n",
    "            print(animal_names[int(i)])\n",
    "    print('------')"
   ]
  },
  {
   "cell_type": "code",
   "execution_count": 112,
   "metadata": {},
   "outputs": [],
   "source": [
    "#generate a list of edges from adjacency matrix\n",
    "edges = {}\n",
    "for n in animal_names:\n",
    "    edges[n] = []\n",
    "for row in range(len(graph)):\n",
    "    for col in range(len(graph[row])):\n",
    "        if graph[row][col] and row != col:\n",
    "            n1 = animal_names[row]\n",
    "            n2 = animal_names[col]\n",
    "            edges[n1].append((n1, n2))\n",
    "            edges[n2].append((n1, n2))"
   ]
  },
  {
   "cell_type": "code",
   "execution_count": 74,
   "metadata": {
    "code_folding": []
   },
   "outputs": [],
   "source": [
    "# Testing out recursive algorithm\n",
    "\n",
    "arr = [i for i in range(10)]\n",
    "\n",
    "def split1(arr):\n",
    "    return(arr[1], arr[0:1], arr[2:])\n",
    "\n",
    "class Node:\n",
    "    def __init__(self, data):\n",
    "        self.data = data\n",
    "        self.left = None\n",
    "        self.right = None\n",
    "        \n",
    "    def print(self):\n",
    "        q = [(self, 0)]\n",
    "        level = 0\n",
    "        while len(q) > 0:\n",
    "            curr_node = q.pop(0)\n",
    "            curr = curr_node[0]\n",
    "            curr_level = curr_node[1]\n",
    "            if curr_level > level:\n",
    "                print('\\n', end='')\n",
    "                level = curr_level\n",
    "            print(curr.data, end=' ')\n",
    "            if curr.left:\n",
    "                q.append((curr.left, curr_level+1))\n",
    "            if curr.right:\n",
    "                q.append((curr.right, curr_level+1))\n",
    "        \n",
    "\n",
    "def makeTree(arr):\n",
    "    if (len(arr) == 0):\n",
    "        return None\n",
    "    if (len(arr) == 1):\n",
    "        return Node(arr[0])\n",
    "    else:\n",
    "        center, left, right = split1(arr)\n",
    "        center = Node(center)\n",
    "        center.left = makeTree(left)\n",
    "        center.right = makeTree(right)\n",
    "        return center"
   ]
  },
  {
   "cell_type": "code",
   "execution_count": 44,
   "metadata": {},
   "outputs": [
    {
     "name": "stdout",
     "output_type": "stream",
     "text": [
      "1 \n",
      "0 3 \n",
      "2 5 \n",
      "4 7 \n",
      "6 9 \n",
      "8 "
     ]
    }
   ],
   "source": [
    "n1 = makeTree(arr)\n",
    "n1.print()"
   ]
  },
  {
   "cell_type": "markdown",
   "metadata": {},
   "source": [
    "# Actually writing the code\n",
    "Will now write a wrapper class that accepts the animals data and will perform clustering"
   ]
  },
  {
   "cell_type": "code",
   "execution_count": 136,
   "metadata": {},
   "outputs": [],
   "source": [
    "class Node:\n",
    "    def __init__(self, data):\n",
    "        self.data = data\n",
    "        self.left = None\n",
    "        self.right = None\n",
    "\n",
    "class Hcluster:\n",
    "\n",
    "    def __init__(self, data, edges):\n",
    "        self.data = data\n",
    "        self.edges = edges\n",
    "    \n",
    "    def split(self, data, feature):\n",
    "        pass\n",
    "    \n",
    "    def makeTree(self, data):\n",
    "        pass"
   ]
  },
  {
   "cell_type": "code",
   "execution_count": null,
   "metadata": {},
   "outputs": [],
   "source": []
  },
  {
   "cell_type": "code",
   "execution_count": null,
   "metadata": {},
   "outputs": [],
   "source": []
  }
 ],
 "metadata": {
  "kernelspec": {
   "display_name": "Python 3",
   "language": "python",
   "name": "python3"
  },
  "language_info": {
   "codemirror_mode": {
    "name": "ipython",
    "version": 3
   },
   "file_extension": ".py",
   "mimetype": "text/x-python",
   "name": "python",
   "nbconvert_exporter": "python",
   "pygments_lexer": "ipython3",
   "version": "3.6.7"
  }
 },
 "nbformat": 4,
 "nbformat_minor": 2
}
