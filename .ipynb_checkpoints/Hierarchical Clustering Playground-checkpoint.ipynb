{
 "cells": [
  {
   "cell_type": "markdown",
   "metadata": {},
   "source": [
    "### Hierarchical Clustering:\n",
    "\n",
    "#### Input: \n",
    "- data: a `m` by `n` array with data and features\n",
    "- edges: an adjacency list that represents the graph\n",
    "\n",
    "#### General algo:\n",
    "1. For each features:\n",
    "    2. For each data point:\n",
    "        3. Calculate the cost\n",
    "4. Pick the split that has the least cost\n",
    "5. Recurse on the resulting two sub-data arrays\n",
    "\n",
    "#### Calcuating the cost:\n",
    "1. running_cost := 0\n",
    "1. best_cost := infinity\n",
    "2. cost_array := \\[ \\]\n",
    "3. For edge(a,b) in edges:\n",
    "    4. cost_array\\[a\\] += 1\n",
    "    5. cost_array\\[b\\] -= 1\n",
    "6. For i in len(cost_array):\n",
    "    7. running_cost += cost_array\\[i\\]\n",
    "    8. if running_cost < best_cost:\n",
    "        9. best_cost = running_cost\n",
    "        10. split_index = i\n",
    "11. return i"
   ]
  },
  {
   "cell_type": "code",
   "execution_count": 55,
   "metadata": {
    "collapsed": true
   },
   "outputs": [],
   "source": [
    "# Testing framework\n",
    "import random\n",
    "\n",
    "class Data:\n",
    "    \n",
    "    def __init__(self, size, degree, fill=True):\n",
    "        self.degree = degree\n",
    "        self.size = size\n",
    "        self.data = [i for i in range(size)]\n",
    "        self.edges = [[] for i in range(size)]\n",
    "        self.dist = [0 for i in range(size)]\n",
    "        if fill:\n",
    "            self.fill_edges()\n",
    "    \n",
    "    # Randomly creates graph\n",
    "    def fill_edges(self):\n",
    "        for i in range(self.degree*self.size):\n",
    "            edge = random.sample(range(self.size), 2)\n",
    "            self.edges[edge[0]].append(edge)\n",
    "            self.edges[edge[1]].append(edge)\n",
    "    \n",
    "    # Creates graph from list of edges\n",
    "    def fill_edges(self, e):\n",
    "        for edge in e:\n",
    "            self.edges[edge[0]].append(edge)\n",
    "            self.edges[edge[1]].append(edge)\n",
    "    \n",
    "    # O(n) space algorithm\n",
    "    # Does not require symmetrical adjacency list\n",
    "    def split(self):\n",
    "        self.dist = [0 for i in range(self.size)]\n",
    "        for i in range(self.size):\n",
    "            for e in self.edges[i]:\n",
    "                self.dist[min(e)] += 1\n",
    "                self.dist[max(e)] -= 1\n",
    "        index = 0\n",
    "        min_cost = self.size*self.degree\n",
    "        running_cost = 0\n",
    "        weighted_cost = 0\n",
    "        # We can skip the last index b/c it's not a real cut\n",
    "        for i in range(self.size-1):\n",
    "            running_cost += self.dist[i]\n",
    "            weighted_cost = running_cost/((i+1)*(self.size-i-1))\n",
    "            if weighted_cost < min_cost:\n",
    "                index = i\n",
    "                min_cost = weighted_cost\n",
    "        return (index, min_cost)\n",
    "    \n",
    "    # O(1) space algorithm\n",
    "    # Only works if the adjacency list is symmetrical\n",
    "    def split2(self):\n",
    "        index = 0\n",
    "        min_cost = self.size*self.degree\n",
    "        running_cost = 0\n",
    "        weighted_cost = 0\n",
    "        for i in range(self.size-1):\n",
    "            for e in self.edges[i]:\n",
    "                if i == min(e):\n",
    "                    running_cost += 1\n",
    "                else:\n",
    "                    running_cost -= 1\n",
    "            weighted_cost = running_cost/((i+1)*(self.size-i-1))\n",
    "            if weighted_cost < min_cost:\n",
    "                index = i\n",
    "                min_cost = weighted_cost\n",
    "        return (index, min_cost)"
   ]
  },
  {
   "cell_type": "code",
   "execution_count": 56,
   "metadata": {
    "collapsed": true
   },
   "outputs": [],
   "source": [
    "# Run tests\n",
    "\n",
    "# Simple case\n",
    "d1 = Data(5, 1, fill=False)\n",
    "e = [[0,1], [0,2], [3,4]]\n",
    "d1.fill_edges(e)\n",
    "assert(d1.split2() == (2, 0))\n",
    "assert(d1.split()[0] == d1.split2()[0])\n",
    "\n",
    "# Harder case\n",
    "d2 = Data(5, 1, fill=False)\n",
    "e = [[0,1], [0,2], [1,3], [2,4]]\n",
    "d2.fill_edges(e)\n",
    "assert(d2.split2() == (3, 0.25))\n",
    "assert(d2.split()[0] == d2.split2()[0])\n",
    "\n",
    "# Null case\n",
    "d3 = Data(10, 1, fill=False)\n",
    "assert(d3.split2() == (0, 0))\n",
    "assert(d3.split()[0] == d3.split2()[0])"
   ]
  },
  {
   "cell_type": "code",
   "execution_count": 57,
   "metadata": {},
   "outputs": [
    {
     "name": "stdout",
     "output_type": "stream",
     "text": [
      "[[[0, 1], [0, 2]], [[0, 1]], [[0, 2]], [[3, 4]], [[3, 4]]]\n"
     ]
    }
   ],
   "source": [
    "d1 = Data(5, 1, fill=False)\n",
    "e = [[0,1], [0,2], [3,4]]\n",
    "d1.fill_edges(e)\n",
    "print(d1.edges)"
   ]
  },
  {
   "cell_type": "code",
   "execution_count": 58,
   "metadata": {},
   "outputs": [
    {
     "data": {
      "text/plain": [
       "(2, 0.0)"
      ]
     },
     "execution_count": 58,
     "metadata": {},
     "output_type": "execute_result"
    }
   ],
   "source": [
    "d1.split()"
   ]
  },
  {
   "cell_type": "code",
   "execution_count": 59,
   "metadata": {
    "collapsed": true
   },
   "outputs": [],
   "source": [
    "d1.dist = [0 for i in range(d1.size)]\n",
    "for i in range(d1.size):\n",
    "    for e in d1.edges[i]:\n",
    "        d1.dist[min(e)] += 1\n",
    "        d1.dist[max(e)] -= 1"
   ]
  },
  {
   "cell_type": "code",
   "execution_count": 60,
   "metadata": {},
   "outputs": [
    {
     "data": {
      "text/plain": [
       "[4, -2, -2, 2, -2]"
      ]
     },
     "execution_count": 60,
     "metadata": {},
     "output_type": "execute_result"
    }
   ],
   "source": [
    "d1.dist"
   ]
  },
  {
   "cell_type": "markdown",
   "metadata": {},
   "source": [
    "### Implementation with Animals w/ Attributes\n",
    "\n",
    "The animals dataset consists of 50 animals with 85 features"
   ]
  },
  {
   "cell_type": "code",
   "execution_count": 61,
   "metadata": {
    "collapsed": true
   },
   "outputs": [],
   "source": [
    "import numpy as np\n",
    "import pandas as pd\n",
    "\n",
    "# Set up classes\n",
    "with open('Animals_with_Attributes2/classes.txt') as f:\n",
    "    content = f.readlines()\n",
    "animals = [np.array(x.strip().split()) for x in content]\n",
    "animal_ids = [int(x[0]) for x in animals]\n",
    "animal_names = [x[1].replace(\"+\",\" \") for x in animals]\n",
    "\n",
    "# Set up features list\n",
    "with open('Animals_with_Attributes2/predicates.txt') as f:\n",
    "    content = f.readlines()\n",
    "features = [np.array(x.strip().split()) for x in content]\n",
    "\n",
    "# Set up features weights\n",
    "with open('Animals_with_Attributes2/predicate-matrix-continuous.txt') as f:\n",
    "    content = f.readlines()\n",
    "animals_data = [[float(y) for y in np.array(x.strip().split())] for x in content]"
   ]
  },
  {
   "cell_type": "code",
   "execution_count": 62,
   "metadata": {
    "collapsed": true
   },
   "outputs": [],
   "source": [
    "# Create pandas Dataframe\n",
    "animals = pd.DataFrame(animals_data)\n",
    "animals.insert(0, 'id', pd.Series(animal_ids))\n",
    "animals.insert(1, 'name', pd.Series(animal_names))"
   ]
  },
  {
   "cell_type": "code",
   "execution_count": 63,
   "metadata": {
    "collapsed": true
   },
   "outputs": [],
   "source": [
    "from sklearn.neighbors import NearestNeighbors\n",
    "\n",
    "# graph creation with KNN \n",
    "# generates a matrix of 1's & 0's where the 1's denotes an edge \n",
    "# between two animals (currently can have an edge to itself)\n",
    "neigh = NearestNeighbors(n_neighbors=6)  \n",
    "neigh.fit(np.array(animals_data), animal_ids)  \n",
    "graph = neigh.kneighbors_graph(animals_data).toarray()"
   ]
  },
  {
   "cell_type": "code",
   "execution_count": 64,
   "metadata": {},
   "outputs": [
    {
     "name": "stdout",
     "output_type": "stream",
     "text": [
      "Animal Name: antelope\n",
      "Neighbors: \n",
      "antelope\n",
      "horse\n",
      "moose\n",
      "giraffe\n",
      "buffalo\n",
      "deer\n",
      "------\n",
      "Animal Name: grizzly bear\n",
      "Neighbors: \n",
      "grizzly bear\n",
      "german shepherd\n",
      "wolf\n",
      "bobcat\n",
      "lion\n",
      "polar bear\n",
      "------\n",
      "Animal Name: killer whale\n",
      "Neighbors: \n",
      "killer whale\n",
      "blue whale\n",
      "humpback whale\n",
      "seal\n",
      "walrus\n",
      "dolphin\n",
      "------\n"
     ]
    }
   ],
   "source": [
    "#sanity check - see if animal is close to the other 5\n",
    "for n in range(3):\n",
    "    print(\"Animal Name: \"+str(animal_names[n]))\n",
    "    print(\"Neighbors: \")\n",
    "    for i, x in enumerate(graph[n]):\n",
    "        if x:\n",
    "            print(animal_names[int(i)])\n",
    "    print('------')"
   ]
  },
  {
   "cell_type": "code",
   "execution_count": 65,
   "metadata": {},
   "outputs": [
    {
     "name": "stdout",
     "output_type": "stream",
     "text": [
      "[(0, 6), (0, 15), (0, 30), (0, 36), (0, 37), (0, 39), (1, 7), (1, 31), (1, 40), (1, 42), (1, 44), (2, 8), (2, 17), (2, 23), (2, 46), (2, 49), (3, 11), (3, 26), (3, 34), (3, 35), (3, 43), (4, 5), (4, 7), (4, 9), (4, 32), (4, 45), (5, 9), (5, 25), (5, 32), (5, 38), (5, 43), (5, 44), (5, 45), (6, 20), (6, 30), (6, 37), (6, 39), (6, 48), (7, 9), (7, 12), (7, 14), (7, 19), (7, 21), (7, 31), (7, 34), (7, 40), (7, 42), (7, 44), (7, 45), (8, 17), (8, 23), (8, 46), (8, 49), (9, 21), (9, 32), (9, 34), (9, 45), (10, 11), (10, 25), (10, 33), (10, 43), (10, 47), (11, 25), (11, 26), (11, 28), (11, 29), (11, 33), (11, 34), (11, 43), (11, 47), (12, 14), (12, 31), (12, 40), (12, 42), (13, 18), (13, 20), (13, 27), (13, 36), (13, 41), (14, 31), (14, 40), (14, 42), (15, 20), (15, 36), (15, 39), (15, 48), (16, 19), (16, 24), (16, 26), (16, 29), (16, 34), (16, 47), (17, 23), (17, 46), (17, 49), (18, 20), (18, 27), (18, 41), (18, 48), (19, 24), (19, 36), (19, 38), (19, 42), (20, 22), (20, 27), (20, 36), (20, 41), (20, 48), (21, 31), (21, 34), (21, 40), (22, 28), (22, 36), (22, 37), (22, 38), (22, 41), (22, 43), (22, 48), (23, 35), (23, 46), (23, 49), (24, 26), (24, 34), (24, 39), (25, 28), (25, 32), (25, 33), (25, 43), (25, 45), (26, 28), (26, 43), (26, 47), (27, 36), (27, 41), (28, 43), (29, 33), (29, 34), (29, 47), (30, 39), (30, 41), (30, 48), (31, 34), (31, 40), (31, 42), (31, 44), (32, 34), (32, 45), (33, 34), (33, 43), (33, 47), (34, 35), (34, 40), (34, 43), (34, 47), (35, 46), (35, 49), (36, 41), (36, 48), (37, 39), (37, 48), (38, 41), (38, 48), (39, 48), (40, 42), (41, 48), (42, 44), (43, 47), (46, 49)]\n"
     ]
    }
   ],
   "source": [
    "#generate a list of edges from adjacency matrix\n",
    "edges = set()\n",
    "for row in range(len(graph)):\n",
    "    for col in range(len(graph[row])):\n",
    "        if graph[row][col] and row != col:\n",
    "            edges.add((min(row, col), max(row, col)))\n",
    "edges = list(edges)\n",
    "edges.sort()\n",
    "print(edges)"
   ]
  },
  {
   "cell_type": "code",
   "execution_count": 66,
   "metadata": {},
   "outputs": [],
   "source": [
    "class Hierarchy_Node:\n",
    "    def __init__(self, edges, size):\n",
    "        self.edges = edges\n",
    "        self.size = size\n",
    "        self.left = None\n",
    "        self.right = None\n",
    "\n",
    "def find_cut(tuples, idx):\n",
    "    lo = 0\n",
    "    hi = len(tuples) - 1\n",
    "    mid = int((lo + hi) / 2)\n",
    "    while lo < hi - 1:\n",
    "        if tuples[mid][0] < idx:\n",
    "            lo = mid\n",
    "            mid = int((lo + hi) / 2)\n",
    "        elif tuples[mid][0] > idx:\n",
    "            hi = mid\n",
    "            mid = int((lo + hi) / 2)\n",
    "        else:\n",
    "            while mid < len(tuples) and tuples[mid][0] == idx:\n",
    "                mid += 1\n",
    "            return mid - 1\n",
    "    if tuples[lo][0] == idx:\n",
    "        return lo\n",
    "    elif tuples[hi][0] == idx:\n",
    "        return hi\n",
    "    return -1"
   ]
  },
  {
   "cell_type": "code",
   "execution_count": 67,
   "metadata": {},
   "outputs": [
    {
     "ename": "IndexError",
     "evalue": "list index out of range",
     "output_type": "error",
     "traceback": [
      "\u001b[0;31m---------------------------------------------------------------------------\u001b[0m",
      "\u001b[0;31mIndexError\u001b[0m                                Traceback (most recent call last)",
      "\u001b[0;32m<ipython-input-67-42e3c0f69af8>\u001b[0m in \u001b[0;36m<module>\u001b[0;34m()\u001b[0m\n\u001b[1;32m     11\u001b[0m     \u001b[0mdata\u001b[0m\u001b[0;34m.\u001b[0m\u001b[0mfill_edges\u001b[0m\u001b[0;34m(\u001b[0m\u001b[0mhn\u001b[0m\u001b[0;34m.\u001b[0m\u001b[0medges\u001b[0m\u001b[0;34m)\u001b[0m\u001b[0;34m\u001b[0m\u001b[0m\n\u001b[1;32m     12\u001b[0m     \u001b[0;34m(\u001b[0m\u001b[0midx\u001b[0m\u001b[0;34m,\u001b[0m \u001b[0mcost\u001b[0m\u001b[0;34m)\u001b[0m \u001b[0;34m=\u001b[0m \u001b[0mdata\u001b[0m\u001b[0;34m.\u001b[0m\u001b[0msplit\u001b[0m\u001b[0;34m(\u001b[0m\u001b[0;34m)\u001b[0m\u001b[0;34m\u001b[0m\u001b[0m\n\u001b[0;32m---> 13\u001b[0;31m     \u001b[0mcut\u001b[0m \u001b[0;34m=\u001b[0m \u001b[0mfind_cut\u001b[0m\u001b[0;34m(\u001b[0m\u001b[0mhn\u001b[0m\u001b[0;34m.\u001b[0m\u001b[0medges\u001b[0m\u001b[0;34m,\u001b[0m \u001b[0midx\u001b[0m\u001b[0;34m)\u001b[0m\u001b[0;34m\u001b[0m\u001b[0m\n\u001b[0m\u001b[1;32m     14\u001b[0m     \u001b[0mq\u001b[0m\u001b[0;34m.\u001b[0m\u001b[0mput\u001b[0m\u001b[0;34m(\u001b[0m\u001b[0mHierarchy_Node\u001b[0m\u001b[0;34m(\u001b[0m\u001b[0mhn\u001b[0m\u001b[0;34m.\u001b[0m\u001b[0medges\u001b[0m\u001b[0;34m[\u001b[0m\u001b[0;34m:\u001b[0m\u001b[0;34m(\u001b[0m\u001b[0mcut\u001b[0m \u001b[0;34m+\u001b[0m \u001b[0;36m1\u001b[0m\u001b[0;34m)\u001b[0m\u001b[0;34m]\u001b[0m\u001b[0;34m,\u001b[0m \u001b[0midx\u001b[0m \u001b[0;34m+\u001b[0m \u001b[0;36m1\u001b[0m\u001b[0;34m)\u001b[0m\u001b[0;34m)\u001b[0m\u001b[0;34m\u001b[0m\u001b[0m\n\u001b[1;32m     15\u001b[0m     \u001b[0mq\u001b[0m\u001b[0;34m.\u001b[0m\u001b[0mput\u001b[0m\u001b[0;34m(\u001b[0m\u001b[0mHierarchy_Node\u001b[0m\u001b[0;34m(\u001b[0m\u001b[0mhn\u001b[0m\u001b[0;34m.\u001b[0m\u001b[0medges\u001b[0m\u001b[0;34m[\u001b[0m\u001b[0;34m(\u001b[0m\u001b[0mcut\u001b[0m \u001b[0;34m+\u001b[0m \u001b[0;36m1\u001b[0m\u001b[0;34m)\u001b[0m\u001b[0;34m:\u001b[0m\u001b[0;34m]\u001b[0m\u001b[0;34m,\u001b[0m \u001b[0mhn\u001b[0m\u001b[0;34m.\u001b[0m\u001b[0msize\u001b[0m \u001b[0;34m-\u001b[0m \u001b[0midx\u001b[0m \u001b[0;34m-\u001b[0m \u001b[0;36m1\u001b[0m\u001b[0;34m)\u001b[0m\u001b[0;34m)\u001b[0m\u001b[0;34m\u001b[0m\u001b[0m\n",
      "\u001b[0;32m<ipython-input-66-22c0430cd3b5>\u001b[0m in \u001b[0;36mfind_cut\u001b[0;34m(tuples, idx)\u001b[0m\n\u001b[1;32m     21\u001b[0m                 \u001b[0mmid\u001b[0m \u001b[0;34m+=\u001b[0m \u001b[0;36m1\u001b[0m\u001b[0;34m\u001b[0m\u001b[0m\n\u001b[1;32m     22\u001b[0m             \u001b[0;32mreturn\u001b[0m \u001b[0mmid\u001b[0m \u001b[0;34m-\u001b[0m \u001b[0;36m1\u001b[0m\u001b[0;34m\u001b[0m\u001b[0m\n\u001b[0;32m---> 23\u001b[0;31m     \u001b[0;32mif\u001b[0m \u001b[0mtuples\u001b[0m\u001b[0;34m[\u001b[0m\u001b[0mlo\u001b[0m\u001b[0;34m]\u001b[0m\u001b[0;34m[\u001b[0m\u001b[0;36m0\u001b[0m\u001b[0;34m]\u001b[0m \u001b[0;34m==\u001b[0m \u001b[0midx\u001b[0m\u001b[0;34m:\u001b[0m\u001b[0;34m\u001b[0m\u001b[0m\n\u001b[0m\u001b[1;32m     24\u001b[0m         \u001b[0;32mreturn\u001b[0m \u001b[0mlo\u001b[0m\u001b[0;34m\u001b[0m\u001b[0m\n\u001b[1;32m     25\u001b[0m     \u001b[0;32melif\u001b[0m \u001b[0mtuples\u001b[0m\u001b[0;34m[\u001b[0m\u001b[0mhi\u001b[0m\u001b[0;34m]\u001b[0m\u001b[0;34m[\u001b[0m\u001b[0;36m0\u001b[0m\u001b[0;34m]\u001b[0m \u001b[0;34m==\u001b[0m \u001b[0midx\u001b[0m\u001b[0;34m:\u001b[0m\u001b[0;34m\u001b[0m\u001b[0m\n",
      "\u001b[0;31mIndexError\u001b[0m: list index out of range"
     ]
    }
   ],
   "source": [
    "import queue\n",
    "\n",
    "root = Hierarchy_Node(edges, len(animals_data))\n",
    "q = queue.Queue(maxsize=len(animals_data))\n",
    "q.put(root)\n",
    "while not q.empty():\n",
    "    hn = q.get()\n",
    "    if hn.size == 1:\n",
    "        continue\n",
    "    data = Data(len(animals_data), 5, False)\n",
    "    data.fill_edges(hn.edges)\n",
    "    (idx, cost) = data.split()\n",
    "    cut = find_cut(hn.edges, idx)\n",
    "    q.put(Hierarchy_Node(hn.edges[:(cut + 1)], idx + 1))\n",
    "    q.put(Hierarchy_Node(hn.edges[(cut + 1):], hn.size - idx - 1))"
   ]
  },
  {
   "cell_type": "code",
   "execution_count": null,
   "metadata": {
    "collapsed": true
   },
   "outputs": [],
   "source": []
  }
 ],
 "metadata": {
  "kernelspec": {
   "display_name": "Python 3",
   "language": "python",
   "name": "python3"
  },
  "language_info": {
   "codemirror_mode": {
    "name": "ipython",
    "version": 3
   },
   "file_extension": ".py",
   "mimetype": "text/x-python",
   "name": "python",
   "nbconvert_exporter": "python",
   "pygments_lexer": "ipython3",
   "version": "3.6.2"
  }
 },
 "nbformat": 4,
 "nbformat_minor": 2
}
