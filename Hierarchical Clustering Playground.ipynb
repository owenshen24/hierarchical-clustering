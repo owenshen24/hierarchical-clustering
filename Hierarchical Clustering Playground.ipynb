{
 "cells": [
  {
   "cell_type": "markdown",
   "metadata": {},
   "source": [
    "### Hierarchical Clustering:\n",
    "\n",
    "#### Input: \n",
    "- data: a `m` by `n` array with data and features\n",
    "- edges: an adjacency list that represents the graph\n",
    "\n",
    "#### General algo:\n",
    "1. For each features:\n",
    "    2. For each data point:\n",
    "        3. Calculate the cost\n",
    "4. Pick the split that has the least cost\n",
    "5. Recurse on the resulting two sub-data arrays\n",
    "\n",
    "#### Calcuating the cost:\n",
    "1. running_cost := 0\n",
    "1. best_cost := infinity\n",
    "2. cost_array := \\[ \\]\n",
    "3. For edge(a,b) in edges:\n",
    "    4. cost_array\\[a\\] += 1\n",
    "    5. cost_array\\[b\\] -= 1\n",
    "6. For i in len(cost_array):\n",
    "    7. running_cost += cost_array\\[i\\]\n",
    "    8. if running_cost < best_cost:\n",
    "        9. best_cost = running_cost\n",
    "        10. split_index = i\n",
    "11. return i"
   ]
  },
  {
   "cell_type": "code",
   "execution_count": 108,
   "metadata": {},
   "outputs": [],
   "source": [
    "# Testing framework\n",
    "import random\n",
    "\n",
    "class Data:\n",
    "    \n",
    "    def __init__(self, size, degree, fill=True):\n",
    "        self.degree = degree\n",
    "        self.size = size\n",
    "        self.data = [i for i in range(size)]\n",
    "        self.edges = [[] for i in range(size)]\n",
    "        self.dist = [0 for i in range(size)]\n",
    "        if fill:\n",
    "            self.fill_edges()\n",
    "    \n",
    "    def fill_edges(self):\n",
    "        for i in range(self.degree*self.size):\n",
    "            edge = random.sample(range(self.size), 2)\n",
    "            self.edges[edge[0]].append(edge)\n",
    "            self.edges[edge[1]].append(edge)\n",
    "    \n",
    "    def split(self):\n",
    "        for i in range(self.size):\n",
    "            for e in self.edges[i]:\n",
    "                self.dist[min(e)] += 1\n",
    "                self.dist[max(e)] -= 1\n",
    "        index = 0\n",
    "        min_cost = self.size*self.degree\n",
    "        running_cost = 0\n",
    "        weighted_cost = 0\n",
    "        # We can skip the last index b/c it's not a real cut\n",
    "        for i in range(self.size-1):\n",
    "            running_cost += self.dist[i]\n",
    "            weighted_cost = running_cost/((i+1)*(self.size-i-1))\n",
    "            if weighted_cost < min_cost:\n",
    "                index = i\n",
    "                min_cost = weighted_cost\n",
    "        return (index, min_cost)"
   ]
  },
  {
   "cell_type": "code",
   "execution_count": 112,
   "metadata": {},
   "outputs": [],
   "source": [
    "# Run tests\n",
    "d1 = Data(5, 1, fill=False)\n",
    "d1.edges[0] = [[0,1],[0,2]]\n",
    "d1.edges[3] = [[3, 4]]\n",
    "assert(d1.split() == (2, 0))\n",
    "\n",
    "d2 = Data(5, 1, fill=False)\n",
    "d2.edges[0] = [[0, 1], [0, 2]]\n",
    "d2.edges[1] = [[1,3]]\n",
    "d2.edges[2] = [[2,4]]\n",
    "assert(d2.split() == (3, 0.25))"
   ]
  },
  {
   "cell_type": "code",
   "execution_count": null,
   "metadata": {},
   "outputs": [],
   "source": []
  },
  {
   "cell_type": "code",
   "execution_count": null,
   "metadata": {},
   "outputs": [],
   "source": []
  },
  {
   "cell_type": "code",
   "execution_count": null,
   "metadata": {},
   "outputs": [],
   "source": []
  }
 ],
 "metadata": {
  "kernelspec": {
   "display_name": "Python 3",
   "language": "python",
   "name": "python3"
  },
  "language_info": {
   "codemirror_mode": {
    "name": "ipython",
    "version": 3
   },
   "file_extension": ".py",
   "mimetype": "text/x-python",
   "name": "python",
   "nbconvert_exporter": "python",
   "pygments_lexer": "ipython3",
   "version": "3.6.7"
  }
 },
 "nbformat": 4,
 "nbformat_minor": 2
}
